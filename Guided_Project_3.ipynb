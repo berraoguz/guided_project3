{
  "cells": [
    {
      "cell_type": "markdown",
      "metadata": {
        "id": "view-in-github",
        "colab_type": "text"
      },
      "source": [
        "<a href=\"https://colab.research.google.com/github/berraoguz/guided_project3/blob/main/Guided_Project_3.ipynb\" target=\"_parent\"><img src=\"https://colab.research.google.com/assets/colab-badge.svg\" alt=\"Open In Colab\"/></a>"
      ]
    },
    {
      "cell_type": "markdown",
      "source": [
        "# Building a Recurrent Neural Network\n",
        "\n",
        "## Sentiment Analysis\n",
        "In this project, we will build a Long Short-term Memory (LSTM) neural network to solve a binary sentiment analysis problem.\n",
        "\n",
        "For this, we'll use the “IMDB Movie Review Dataset\" available on Keras. It includes 50000 highly polarized movie reviews categorized as positive or negative."
      ],
      "metadata": {
        "id": "VYmYuGSWFs3-"
      }
    },
    {
      "cell_type": "markdown",
      "source": [
        "## Importing the required libraries\n",
        "We'll start with importing required libraries.\n",
        "\n",
        "📌 Use the keyword \"import\"."
      ],
      "metadata": {
        "id": "jQQ7xy4lzfsw"
      }
    },
    {
      "cell_type": "code",
      "execution_count": 1,
      "metadata": {
        "id": "b__mue-XGPZ9"
      },
      "outputs": [],
      "source": [
        "# Import TensorFlow\n",
        "import tensorflow as tf\n",
        "# Import NumPy and Matplotlib\n",
        "import numpy as np\n",
        "import matplotlib.pyplot as plt"
      ]
    },
    {
      "cell_type": "markdown",
      "metadata": {
        "id": "u0b5YzGHP3qs"
      },
      "source": [
        "## Dataset\n",
        "Let's download the IMDB dataset which is included in Keras, and assign it to the corresponding variables *X_train*, *y_train*, *X_test*, and *y_test*. We want to include the most frequently used 10000 words, so we specify 10000 for the num_words parameter.\n",
        "\n",
        "📌 Use the datasets.imdb.load_data() function of the Keras."
      ]
    },
    {
      "cell_type": "code",
      "execution_count": 2,
      "metadata": {
        "id": "1WLgLQxGGDz8",
        "colab": {
          "base_uri": "https://localhost:8080/"
        },
        "outputId": "30aae431-dd8b-4f3c-e8b2-e6020e885fb2"
      },
      "outputs": [
        {
          "output_type": "stream",
          "name": "stdout",
          "text": [
            "Downloading data from https://storage.googleapis.com/tensorflow/tf-keras-datasets/imdb.npz\n",
            "\u001b[1m17464789/17464789\u001b[0m \u001b[32m━━━━━━━━━━━━━━━━━━━━\u001b[0m\u001b[37m\u001b[0m \u001b[1m2s\u001b[0m 0us/step\n"
          ]
        }
      ],
      "source": [
        "# Download the IMDB dataset included in Keras\n",
        "# Set the parameter num_words to 10000\n",
        "(X_train, y_train), (X_test, y_test) = tf.keras.datasets.imdb.load_data(num_words = 10000)"
      ]
    },
    {
      "cell_type": "markdown",
      "source": [
        "Before we move on, we can print a single sample to see what the data looks like.\n",
        "\n",
        "📌 Use the print() function for this."
      ],
      "metadata": {
        "id": "AUPnNCgC0mHm"
      }
    },
    {
      "cell_type": "code",
      "execution_count": 3,
      "metadata": {
        "id": "1spB5eY9xh-B",
        "colab": {
          "base_uri": "https://localhost:8080/"
        },
        "outputId": "21a7898d-06f1-48a9-b878-ef7973518953"
      },
      "outputs": [
        {
          "output_type": "stream",
          "name": "stdout",
          "text": [
            "[1, 14, 22, 16, 43, 530, 973, 1622, 1385, 65, 458, 4468, 66, 3941, 4, 173, 36, 256, 5, 25, 100, 43, 838, 112, 50, 670, 2, 9, 35, 480, 284, 5, 150, 4, 172, 112, 167, 2, 336, 385, 39, 4, 172, 4536, 1111, 17, 546, 38, 13, 447, 4, 192, 50, 16, 6, 147, 2025, 19, 14, 22, 4, 1920, 4613, 469, 4, 22, 71, 87, 12, 16, 43, 530, 38, 76, 15, 13, 1247, 4, 22, 17, 515, 17, 12, 16, 626, 18, 2, 5, 62, 386, 12, 8, 316, 8, 106, 5, 4, 2223, 5244, 16, 480, 66, 3785, 33, 4, 130, 12, 16, 38, 619, 5, 25, 124, 51, 36, 135, 48, 25, 1415, 33, 6, 22, 12, 215, 28, 77, 52, 5, 14, 407, 16, 82, 2, 8, 4, 107, 117, 5952, 15, 256, 4, 2, 7, 3766, 5, 723, 36, 71, 43, 530, 476, 26, 400, 317, 46, 7, 4, 2, 1029, 13, 104, 88, 4, 381, 15, 297, 98, 32, 2071, 56, 26, 141, 6, 194, 7486, 18, 4, 226, 22, 21, 134, 476, 26, 480, 5, 144, 30, 5535, 18, 51, 36, 28, 224, 92, 25, 104, 4, 226, 65, 16, 38, 1334, 88, 12, 16, 283, 5, 16, 4472, 113, 103, 32, 15, 16, 5345, 19, 178, 32]\n"
          ]
        }
      ],
      "source": [
        "# Print a sample\n",
        "print(X_train[0])"
      ]
    },
    {
      "cell_type": "markdown",
      "source": [
        "Then, we print the the number of samples in the X_train and X_test datasets to see how the dataset is distributed.\n",
        "\n",
        "📌 Use f-strings for this."
      ],
      "metadata": {
        "id": "VKkhznIa8hIw"
      }
    },
    {
      "cell_type": "code",
      "execution_count": 4,
      "metadata": {
        "id": "skzb2oTCdV-c",
        "colab": {
          "base_uri": "https://localhost:8080/"
        },
        "outputId": "6f6ca243-e183-4b94-998d-89c211857802"
      },
      "outputs": [
        {
          "output_type": "stream",
          "name": "stdout",
          "text": [
            "X_train: 25000\n",
            "X_test: 25000\n"
          ]
        }
      ],
      "source": [
        "# Print the number of samples\n",
        "print(f\"X_train: {len(X_train)}\")\n",
        "print(f\"X_test: {len(X_test)}\")"
      ]
    },
    {
      "cell_type": "markdown",
      "metadata": {
        "id": "lF6kV-EsP5vS"
      },
      "source": [
        "# Preprocessing\n",
        "### Concatenate\n",
        "\n",
        "To split the dataset with 80-10-10 ratio, we'll first concatenate train and test datasets to create one big dataset.\n",
        "\n",
        "📌 Use contenate() function of the NumPy library for this."
      ]
    },
    {
      "cell_type": "code",
      "execution_count": 5,
      "metadata": {
        "id": "Whj2C-SlKv2E"
      },
      "outputs": [],
      "source": [
        "# Concatenate X_train and X_test and assing it to a variable X\n",
        "X = np.concatenate((X_train, X_test), axis = 0)\n",
        "\n",
        "# Concatenate y_train and y_test and assing it to a variable y\n",
        "y = np.concatenate((y_train, y_test), axis = 0)"
      ]
    },
    {
      "cell_type": "markdown",
      "metadata": {
        "id": "ZObXVorUxoGK"
      },
      "source": [
        "###Padding\n",
        "\n",
        "Since all reviews are at different lengths, we'll use padding to make all of them same length.\n",
        "\n",
        "📌 Use preprocessing.sequence.pad_sequences() function for this."
      ]
    },
    {
      "cell_type": "code",
      "execution_count": 6,
      "metadata": {
        "id": "T8mlvy8xKu7-"
      },
      "outputs": [],
      "source": [
        "# Pad all reviews in the X dataset to the length maxlen=1024\n",
        "X = tf.keras.preprocessing.sequence.pad_sequences(X, maxlen = 1024)"
      ]
    },
    {
      "cell_type": "markdown",
      "source": [
        "### Splitting\n",
        "\n",
        "Now, split X and y into train, validation and test dataset and assign those to corresponding values.\n",
        "\n",
        "📌 You can use list slicing methods for this.\n",
        "\n",
        "📌 For this dataset, a 80-10-10 split corresponds to 40000 - 10000 - 10000 number of samples relatively.\n"
      ],
      "metadata": {
        "id": "2rZILMK5_-e4"
      }
    },
    {
      "cell_type": "code",
      "execution_count": 7,
      "metadata": {
        "id": "Ru_A80XWPr05"
      },
      "outputs": [],
      "source": [
        "# Create the training datasets\n",
        "X_train = X[:40000]\n",
        "y_train = y[:40000]\n",
        "# Create the validation datasets\n",
        "X_val = X[40000:45000]\n",
        "y_val = y[40000:45000]\n",
        "# Create the test datasets\n",
        "X_test = X[45000:50000]\n",
        "y_test = y[45000:50000]"
      ]
    },
    {
      "cell_type": "markdown",
      "source": [
        "To check if that worked out, print the number of samples in each dataset again.\n",
        "\n",
        "📌 Use f-strings for this."
      ],
      "metadata": {
        "id": "E4t0TWEuCs6q"
      }
    },
    {
      "cell_type": "code",
      "execution_count": 8,
      "metadata": {
        "id": "yhRLn4stTA4d",
        "colab": {
          "base_uri": "https://localhost:8080/"
        },
        "outputId": "60e4a303-1790-4c74-b8e1-60aa95a5c6d5"
      },
      "outputs": [
        {
          "output_type": "stream",
          "name": "stdout",
          "text": [
            "X_train: 40000\n",
            "y_train: 40000\n",
            "X_val: 5000\n",
            "y_val: 5000\n",
            "X_test: 5000\n",
            "y_test: 5000\n"
          ]
        }
      ],
      "source": [
        "# Print the number of samples\n",
        "print(f\"X_train: {len(X_train)}\")\n",
        "print(f\"y_train: {len(y_train)}\")\n",
        "print(f\"X_val: {len(X_val)}\")\n",
        "print(f\"y_val: {len(y_val)}\")\n",
        "print(f\"X_test: {len(X_test)}\")\n",
        "print(f\"y_test: {len(y_test)}\")"
      ]
    },
    {
      "cell_type": "markdown",
      "source": [
        "## Constructing the neural network\n",
        "\n",
        "That was it for the preprocessing of the data!\n",
        "\n",
        "Now we can create our model. First, we start by creating a model object using the Sequential API of Keras.\n",
        "\n",
        "📌 Use tf.keras.Sequential() to create a model object"
      ],
      "metadata": {
        "id": "ZDCMa-o8ESLy"
      }
    },
    {
      "cell_type": "code",
      "execution_count": 9,
      "metadata": {
        "id": "-lodLU07jdzm"
      },
      "outputs": [],
      "source": [
        "model = tf.keras.Sequential()"
      ]
    },
    {
      "cell_type": "markdown",
      "source": [
        "### Embedding Layer\n",
        "\n",
        "For the first layer, we add an embedding layer.\n",
        "\n",
        "📌 Use tf.keras.layers.Embedding() for the embedding layer.\n",
        "\n",
        "📌 Use .add() method of the object to add the layer."
      ],
      "metadata": {
        "id": "-lh7_MzgFhIf"
      }
    },
    {
      "cell_type": "code",
      "execution_count": 10,
      "metadata": {
        "id": "41CLMa1Epasa"
      },
      "outputs": [],
      "source": [
        "# Add an embedding layer and a dropout\n",
        "model.add(tf.keras.layers.Embedding(input_dim=10000, output_dim=256))\n",
        "model.add(tf.keras.layers.Dropout(0.7))"
      ]
    },
    {
      "cell_type": "markdown",
      "source": [
        "Then, we add a LSTM layer and a dense layer; each with a dropout.\n",
        "\n",
        "📌 Use tf.keras.layers.LSTM() and tf.keras.layers.Dense() to create the layers.\n",
        "\n",
        "📌 Use .add() method of the object to add the layer."
      ],
      "metadata": {
        "id": "YpeVhPpEG3u9"
      }
    },
    {
      "cell_type": "code",
      "execution_count": 11,
      "metadata": {
        "id": "ntaW1KWrpngU"
      },
      "outputs": [],
      "source": [
        "# Add a LSTM layer with dropout\n",
        "model.add(tf.keras.layers.LSTM(256))\n",
        "model.add(tf.keras.layers.Dropout(0.7))\n",
        "\n",
        "# Add a Dense layer with dropout\n",
        "model.add(tf.keras.layers.Dense(128, activation=\"relu\"))\n",
        "model.add(tf.keras.layers.Dropout(0.7))"
      ]
    },
    {
      "cell_type": "markdown",
      "source": [
        "### Output layer\n",
        "\n",
        "As the last part of our neural network, we add the output layer. The number of nodes will be one since we are making binary classification. We'll use the sigmoid activation function in the output layer.\n",
        "\n",
        "📌 Use tf.keras.layers.Dense() to create the layer.\n",
        "\n",
        "📌 Use .add() method of the object to add the layer."
      ],
      "metadata": {
        "id": "lTWRJxTGHhaI"
      }
    },
    {
      "cell_type": "code",
      "execution_count": 12,
      "metadata": {
        "id": "1ufBdJmBs_T-"
      },
      "outputs": [],
      "source": [
        "# Add the output layer\n",
        "model.add(tf.keras.layers.Dense(1, activation=\"sigmoid\"))"
      ]
    },
    {
      "cell_type": "markdown",
      "source": [
        "### Optimizer\n",
        "\n",
        "Now we have the structure of our model. To configure the model for training, we'll use the *.compile()* method. Inside the compile method, we have to define the following:\n",
        "*   \"Adam\" for optimizer\n",
        "*   \"Binary Crossentropy\" for the loss function\n",
        "\n",
        "\n",
        "📌 Construct the model with the .compile() method."
      ],
      "metadata": {
        "id": "x7EI9LX1I522"
      }
    },
    {
      "cell_type": "code",
      "execution_count": 13,
      "metadata": {
        "id": "bkDRiJNW_Dbu"
      },
      "outputs": [],
      "source": [
        "model.compile(optimizer = \"adam\", loss = \"binary_crossentropy\", metrics=[\"accuracy\"])"
      ]
    },
    {
      "cell_type": "markdown",
      "source": [
        "## Training the model\n",
        "\n",
        "It's time to train the model. We'll give the X_train and y_train datasets as the first two arguments. These will be used for training. And with the *validation_data* parameter, we'll give the X_val and y_val as a tuple.\n",
        "\n",
        "📌 Use .fit() method of the model object for the training."
      ],
      "metadata": {
        "id": "vpcO1HLZJZtZ"
      }
    },
    {
      "cell_type": "code",
      "execution_count": 14,
      "metadata": {
        "id": "PoTfLMTt4RQ1",
        "colab": {
          "base_uri": "https://localhost:8080/"
        },
        "outputId": "54981ff9-b266-4df6-cfab-779f14ab8f70"
      },
      "outputs": [
        {
          "output_type": "stream",
          "name": "stdout",
          "text": [
            "Epoch 1/5\n",
            "\u001b[1m1250/1250\u001b[0m \u001b[32m━━━━━━━━━━━━━━━━━━━━\u001b[0m\u001b[37m\u001b[0m \u001b[1m102s\u001b[0m 76ms/step - accuracy: 0.6593 - loss: 0.6016 - val_accuracy: 0.8510 - val_loss: 0.3670\n",
            "Epoch 2/5\n",
            "\u001b[1m1250/1250\u001b[0m \u001b[32m━━━━━━━━━━━━━━━━━━━━\u001b[0m\u001b[37m\u001b[0m \u001b[1m134s\u001b[0m 73ms/step - accuracy: 0.7428 - loss: 0.4966 - val_accuracy: 0.5052 - val_loss: 0.6928\n",
            "Epoch 3/5\n",
            "\u001b[1m1250/1250\u001b[0m \u001b[32m━━━━━━━━━━━━━━━━━━━━\u001b[0m\u001b[37m\u001b[0m \u001b[1m136s\u001b[0m 68ms/step - accuracy: 0.5015 - loss: 0.6939 - val_accuracy: 0.6740 - val_loss: 0.6641\n",
            "Epoch 4/5\n",
            "\u001b[1m1250/1250\u001b[0m \u001b[32m━━━━━━━━━━━━━━━━━━━━\u001b[0m\u001b[37m\u001b[0m \u001b[1m142s\u001b[0m 68ms/step - accuracy: 0.5963 - loss: 0.6460 - val_accuracy: 0.8616 - val_loss: 0.3297\n",
            "Epoch 5/5\n",
            "\u001b[1m1250/1250\u001b[0m \u001b[32m━━━━━━━━━━━━━━━━━━━━\u001b[0m\u001b[37m\u001b[0m \u001b[1m85s\u001b[0m 68ms/step - accuracy: 0.8675 - loss: 0.3520 - val_accuracy: 0.8948 - val_loss: 0.2636\n"
          ]
        }
      ],
      "source": [
        "# Train the model for 5 epochs\n",
        "results = model.fit(X_train, y_train, epochs = 5, validation_data=(X_val, y_val))"
      ]
    },
    {
      "cell_type": "markdown",
      "source": [
        "### Visualize the results\n",
        "\n",
        "After the model is trained, we can create a graph to visualize the change of loss over time. Results are held in:\n",
        "* results.history[\"loss\"]\n",
        "* results.history[\"val_loss\"]\n",
        "\n",
        "📌 Use plt.show() to display the graph."
      ],
      "metadata": {
        "id": "OEx98AYLJwhl"
      }
    },
    {
      "cell_type": "code",
      "execution_count": 15,
      "metadata": {
        "id": "oDw7KpHct81z",
        "colab": {
          "base_uri": "https://localhost:8080/",
          "height": 449
        },
        "outputId": "849f5d0e-ed06-4962-9a95-7da8e7937790"
      },
      "outputs": [
        {
          "output_type": "display_data",
          "data": {
            "text/plain": [
              "<Figure size 640x480 with 1 Axes>"
            ],
            "image/png": "[encoded data removed]"
          },
          "metadata": {}
        }
      ],
      "source": [
        "# Plot the the training loss\n",
        "plt.plot(results.history[\"loss\"], label = \"Train\")\n",
        "\n",
        "# Plot the the validation loss\n",
        "plt.plot(results.history[\"val_loss\"], label = \"Validation\")\n",
        "\n",
        "# Name the x and y axises\n",
        "plt.xlabel(\"Epoch\")\n",
        "plt.ylabel(\"Loss\")\n",
        "# Put legend table\n",
        "plt.legend()\n",
        "\n",
        "# Show the plot\n",
        "plt.show()"
      ]
    },
    {
      "cell_type": "markdown",
      "source": [
        "Now, do the same thing for accuracy.\n",
        "\n",
        "📌 Accuracy scores can be found in:\n",
        "* results.history[\"accuracy\"]\n",
        "* results.history[\"val_accuracy\"]\n",
        "\n"
      ],
      "metadata": {
        "id": "x4f-9V6pKHfE"
      }
    },
    {
      "cell_type": "code",
      "execution_count": 16,
      "metadata": {
        "id": "7LUeUQAn_CkD",
        "colab": {
          "base_uri": "https://localhost:8080/",
          "height": 449
        },
        "outputId": "a3216503-d862-4d05-b404-a19b1a9479fa"
      },
      "outputs": [
        {
          "output_type": "display_data",
          "data": {
            "text/plain": [
              "<Figure size 640x480 with 1 Axes>"
            ],
            "image/png": "[encoded data removed]"
          },
          "metadata": {}
        }
      ],
      "source": [
        "# Plot the the training accuracy\n",
        "plt.plot(results.history[\"accuracy\"], label = \"Train\")\n",
        "\n",
        "# Plot the the validation accuracy\n",
        "plt.plot(results.history[\"val_accuracy\"], label = \"Validation\")\n",
        "\n",
        "# Name the x and y axises\n",
        "plt.xlabel(\"Epoch\")\n",
        "plt.ylabel(\"Accuracy\")\n",
        "\n",
        "# Put legend table\n",
        "plt.legend()\n",
        "\n",
        "# Show the plot\n",
        "plt.show()"
      ]
    },
    {
      "cell_type": "markdown",
      "source": [
        "## Performance evaluation\n",
        "\n",
        "Let's use the test dataset that we created to evaluate the performance of the model.\n",
        "\n",
        "📌 Use test_on_batch() method with test dataset as parameter."
      ],
      "metadata": {
        "id": "xnz14s_zKSq8"
      }
    },
    {
      "cell_type": "code",
      "execution_count": 17,
      "metadata": {
        "id": "grHvXCZY_JVT",
        "colab": {
          "base_uri": "https://localhost:8080/"
        },
        "outputId": "12645676-d75e-4498-d0b7-12b924d43694"
      },
      "outputs": [
        {
          "output_type": "stream",
          "name": "stdout",
          "text": [
            "\u001b[1m157/157\u001b[0m \u001b[32m━━━━━━━━━━━━━━━━━━━━\u001b[0m\u001b[37m\u001b[0m \u001b[1m4s\u001b[0m 28ms/step - accuracy: 0.8867 - loss: 0.2677\n"
          ]
        },
        {
          "output_type": "execute_result",
          "data": {
            "text/plain": [
              "[0.26491132378578186, 0.8870000243186951]"
            ]
          },
          "metadata": {},
          "execution_count": 17
        }
      ],
      "source": [
        "# Evaluate the performance\n",
        "model.evaluate(X_test, y_test)"
      ]
    },
    {
      "cell_type": "markdown",
      "source": [
        "### Try a prediction\n",
        "\n",
        "Next, we take a sample and make a prediction on it.\n",
        "\n",
        "📌 Reshape the review to (1, 1024).\n",
        "\n",
        "📌 Use the .prediction() method of the model object."
      ],
      "metadata": {
        "id": "MOJH4551KWWe"
      }
    },
    {
      "cell_type": "code",
      "execution_count": 18,
      "metadata": {
        "id": "vda8VhZh_LiK",
        "colab": {
          "base_uri": "https://localhost:8080/"
        },
        "outputId": "fb448ded-2f67-4575-f582-bba891791844"
      },
      "outputs": [
        {
          "output_type": "stream",
          "name": "stdout",
          "text": [
            "\u001b[1m1/1\u001b[0m \u001b[32m━━━━━━━━━━━━━━━━━━━━\u001b[0m\u001b[37m\u001b[0m \u001b[1m0s\u001b[0m 129ms/step\n",
            "Label: 0 | Prediction: [[0.06021883]]\n"
          ]
        }
      ],
      "source": [
        "# Make prediction on the reshaped sample\n",
        "prediction_result = model.predict(X_test[789].reshape(1,1024))\n",
        "print(f\"Label: {y_test[789]} | Prediction: {prediction_result}\")"
      ]
    }
  ],
  "metadata": {
    "accelerator": "GPU",
    "colab": {
      "provenance": [],
      "gpuType": "T4",
      "include_colab_link": true
    },
    "kernelspec": {
      "display_name": "Python 3",
      "name": "python3"
    },
    "language_info": {
      "name": "python"
    }
  },
  "nbformat": 4,
  "nbformat_minor": 0
}